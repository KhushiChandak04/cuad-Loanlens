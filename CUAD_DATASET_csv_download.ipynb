{
  "nbformat": 4,
  "nbformat_minor": 0,
  "metadata": {
    "colab": {
      "provenance": [],
      "gpuType": "T4",
      "authorship_tag": "ABX9TyOZKlfCqxQPGIWftXmDmxDm",
      "include_colab_link": true
    },
    "kernelspec": {
      "name": "python3",
      "display_name": "Python 3"
    },
    "language_info": {
      "name": "python"
    },
    "accelerator": "GPU"
  },
  "cells": [
    {
      "cell_type": "markdown",
      "metadata": {
        "id": "view-in-github",
        "colab_type": "text"
      },
      "source": [
        "<a href=\"https://colab.research.google.com/github/KhushiChandak04/cuad-Loanlens/blob/main/CUAD_DATASET_csv_download.ipynb\" target=\"_parent\"><img src=\"https://colab.research.google.com/assets/colab-badge.svg\" alt=\"Open In Colab\"/></a>"
      ]
    },
    {
      "cell_type": "code",
      "execution_count": 2,
      "metadata": {
        "colab": {
          "base_uri": "https://localhost:8080/",
          "height": 138
        },
        "id": "jbn7OI9WmCkI",
        "outputId": "c97acfa6-d79a-42b7-8f7f-28be364d1ee1"
      },
      "outputs": [
        {
          "output_type": "stream",
          "name": "stdout",
          "text": [
            "Cloning into 'cuad-Loanlens'...\n",
            "remote: Enumerating objects: 30, done.\u001b[K\n",
            "remote: Total 30 (delta 0), reused 0 (delta 0), pack-reused 30 (from 1)\u001b[K\n",
            "Receiving objects: 100% (30/30), 17.78 MiB | 8.66 MiB/s, done.\n",
            "Resolving deltas: 100% (10/10), done.\n",
            "/content/cuad-Loanlens/cuad-Loanlens\n",
            "Extracted files: ['train_separate_questions.json', 'test.json', 'CUADv1.json']\n"
          ]
        },
        {
          "output_type": "display_data",
          "data": {
            "text/plain": [
              "<IPython.core.display.Javascript object>"
            ],
            "application/javascript": [
              "\n",
              "    async function download(id, filename, size) {\n",
              "      if (!google.colab.kernel.accessAllowed) {\n",
              "        return;\n",
              "      }\n",
              "      const div = document.createElement('div');\n",
              "      const label = document.createElement('label');\n",
              "      label.textContent = `Downloading \"${filename}\": `;\n",
              "      div.appendChild(label);\n",
              "      const progress = document.createElement('progress');\n",
              "      progress.max = size;\n",
              "      div.appendChild(progress);\n",
              "      document.body.appendChild(div);\n",
              "\n",
              "      const buffers = [];\n",
              "      let downloaded = 0;\n",
              "\n",
              "      const channel = await google.colab.kernel.comms.open(id);\n",
              "      // Send a message to notify the kernel that we're ready.\n",
              "      channel.send({})\n",
              "\n",
              "      for await (const message of channel.messages) {\n",
              "        // Send a message to notify the kernel that we're ready.\n",
              "        channel.send({})\n",
              "        if (message.buffers) {\n",
              "          for (const buffer of message.buffers) {\n",
              "            buffers.push(buffer);\n",
              "            downloaded += buffer.byteLength;\n",
              "            progress.value = downloaded;\n",
              "          }\n",
              "        }\n",
              "      }\n",
              "      const blob = new Blob(buffers, {type: 'application/binary'});\n",
              "      const a = document.createElement('a');\n",
              "      a.href = window.URL.createObjectURL(blob);\n",
              "      a.download = filename;\n",
              "      div.appendChild(a);\n",
              "      a.click();\n",
              "      div.remove();\n",
              "    }\n",
              "  "
            ]
          },
          "metadata": {}
        },
        {
          "output_type": "display_data",
          "data": {
            "text/plain": [
              "<IPython.core.display.Javascript object>"
            ],
            "application/javascript": [
              "download(\"download_73514379-9b91-4255-a19f-c23e86d53a23\", \"cuad_dataset.csv\", 1466504715)"
            ]
          },
          "metadata": {}
        }
      ],
      "source": [
        "# 1️⃣ Clone the repo\n",
        "!git clone https://github.com/KhushiChandak04/cuad-Loanlens.git\n",
        "%cd cuad-Loanlens\n",
        "\n",
        "# 2️⃣ Unzip the data\n",
        "import zipfile\n",
        "with zipfile.ZipFile(\"data.zip\", \"r\") as zip_ref:\n",
        "    zip_ref.extractall(\"data\")\n",
        "\n",
        "# 3️⃣ Show extracted files\n",
        "import os\n",
        "print(\"Extracted files:\", os.listdir(\"data\"))\n",
        "\n",
        "# 4️⃣ Load the correct training dataset file\n",
        "import json\n",
        "import pandas as pd\n",
        "from google.colab import files\n",
        "\n",
        "file_path = \"data/train_separate_questions.json\"  # ✅ Correct file name\n",
        "\n",
        "try:\n",
        "    with open(file_path, \"r\") as f:\n",
        "        data = json.load(f)\n",
        "\n",
        "    rows = []\n",
        "    for item in data[\"data\"]:\n",
        "        for para in item[\"paragraphs\"]:\n",
        "            context = para[\"context\"]\n",
        "            for qa in para[\"qas\"]:\n",
        "                question = qa[\"question\"]\n",
        "                id_ = qa[\"id\"]\n",
        "                answers = [a[\"text\"] for a in qa[\"answers\"]]\n",
        "                rows.append({\n",
        "                    \"id\": id_,\n",
        "                    \"context\": context,\n",
        "                    \"question\": question,\n",
        "                    \"answers\": \"; \".join(answers)\n",
        "                })\n",
        "\n",
        "    df = pd.DataFrame(rows)\n",
        "    df.to_csv(\"cuad_dataset.csv\", index=False)\n",
        "\n",
        "    # 5️⃣ Download the CSV\n",
        "    files.download(\"cuad_dataset.csv\")\n",
        "\n",
        "except Exception as e:\n",
        "    print(\"❌ Error occurred:\", e)\n"
      ]
    }
  ]
}